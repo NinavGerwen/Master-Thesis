{
  "cells": [
    {
      "cell_type": "markdown",
      "metadata": {},
      "source": [
        "![](profpic.png){fig-align=\"center\" width=\"250\"}\n",
        "\n",
        "# Nina van Gerwen {.center}\n",
        "\n",
        "## Budding Statistician[^index-1] {.center}\n",
        "\n",
        "[^index-1]: This site was made using [Quarto](https://quarto.org/) and inspired by [Gerko Vink](https://www.gerkovink.com/)'s personal site.\n",
        "\n",
        "\n",
        "\n",
        "\n",
        "\n",
        "::: {.centertext}\n",
        "[\\[GITHUB\\]](https://github.com/NinavGerwen) [\\[LINKEDIN\\]](https://www.linkedin.com/in/nina-van-gerwen-946aa31b4/)\n",
        "\n",
        ":::\n",
        "\n",
        "To contact me, you can email me at: n.l.vangerwen\\@uu.nl."
      ],
      "id": "f6f55e4c"
    }
  ],
  "metadata": {
    "kernelspec": {
      "display_name": "Python 3",
      "language": "python",
      "name": "python3"
    }
  },
  "nbformat": 4,
  "nbformat_minor": 5
}